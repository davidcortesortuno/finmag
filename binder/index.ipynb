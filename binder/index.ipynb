{
 "cells": [
  {
   "cell_type": "markdown",
   "metadata": {},
   "source": [
    "# Finmag on Binder\n",
    "\n",
    "Finmag is a finite-element micromagnetic simulation tool. For more information, please visit the Finmag's GitHub [repository](https://github.com/fangohr/finmag).\n",
    "\n",
    "The documentation in the form of Jupyter notebooks is available in `finmag/doc/ipython_notebooks_src` directory. To open one of the tutorials, please navigate to that directory.\n",
    "\n",
    "Please note that this is a working prototype which is not polished, with some (in large parts outdated) attempts at documentation. We do not consider the codebase, documentation, and other content of sufficient quality to encourage uptake in the community. (Experts are welcome!) This is primarily a resource problem."
   ]
  }
 ],
 "metadata": {
  "kernelspec": {
   "display_name": "Python 3",
   "language": "python",
   "name": "python3"
  },
  "language_info": {
   "codemirror_mode": {
    "name": "ipython",
    "version": 3
   },
   "file_extension": ".py",
   "mimetype": "text/x-python",
   "name": "python",
   "nbconvert_exporter": "python",
   "pygments_lexer": "ipython3",
   "version": "3.8.5"
  }
 },
 "nbformat": 4,
 "nbformat_minor": 4
}
