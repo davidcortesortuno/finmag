{
 "cells": [
  {
   "cell_type": "markdown",
   "metadata": {},
   "source": [
    "# Finmag on Binder\n",
    "\n",
    "<img src=\"dev/logos/finmag_logo.png\" width=\"300\" align=\"right\">\n",
    "\n",
    "Marc-Antonio Bisotti<sup>1</sup>, Marijan Beg<sup>1,2</sup>, Weiwei Wang<sup>1</sup>, Maximilian Albert<sup>1</sup>, Dmitri Chernyshenko<sup>1</sup>, David Cortés-Ortuño<sup>1</sup>, Ryan A. Pepper<sup>1</sup>, Mark Vousden<sup>1</sup>, Rebecca Carey<sup>1</sup>, Hagen Fuchs<sup>3</sup>, Anders Johansen<sup>1</sup>, Gabriel Balaban<sup>1</sup>, Leoni Breth<sup>1</sup>, Thomas Kluyver<sup>1</sup>, and Hans Fangohr<sup>1,2</sup>\n",
    "\n",
    "<sup>1</sup> Faculty of Engineering and the Environment, University of Southampton, Southampton SO17 1BJ, United Kingdom  \n",
    "<sup>2</sup> European XFEL GmbH, Holzkoppel 4, 22869 Schenefeld, Germany  \n",
    "<sup>3</sup> Helmholtz-Zentrum Dresden-Rossendorf, Bautzner Landstraße 400, 01328 Dresden, Germany\n",
    "\n",
    "## About\n",
    "\n",
    "Finmag is a finite-element micromagnetic simulation tool. For more information, please visit the finmag's [repository](https://github.com/fangohr/finmag) on Github.\n",
    "\n",
    "## Documentation\n",
    "\n",
    "The documentation in the form of Jupyter notebooks is available in [doc/ipython_notebooks_src](doc/ipython_notebooks_src) directory. To open one of the tutorials, go to the previous link and select one of the notebooks. More information on how to use Jupyter notebooks can be found on Jupyter [website](http://jupyter.org/).\n",
    "\n",
    "Please note that this is a working prototype which is not polished, with some (in large parts outdated) attempts at documentation. We do not consider the codebase, documentation, and other content of sufficient quality to encourage uptake in the community. (Experts are welcome!) This is primarily a resource problem.\n",
    "\n",
    "## How to cite\n",
    "\n",
    "If you use Finmag in your research, please cite it as\n",
    "\n",
    "- (Zenodo DOI will go here when we make the repository public)\n",
    "\n",
    "## License\n",
    "\n",
    "Finmag is licensed under the BSD 3-Clause \"New\" or \"Revised\" License. For details, please refer to the [LICENSE](LICENSE) file. However, portions of the source code (e.g. src/util/numpy.h) are subject to the Boost Software License.\n",
    "\n",
    "## Support\n",
    "\n",
    "We do not provide support for Finmag. However, you are welcome to raise an issue in the GitHub [fangohr/finmag](https://github.com/fangohr/finmag) repository, but no promise can be made that the issue will be addressed.\n",
    "\n",
    "## Acknowledgements\n",
    "\n",
    "We acknowledge the support from\n",
    "\n",
    "- EPSRC’s [Doctoral Training Centre in Complex System Simulation](http://www.icss.soton.ac.uk) (EP/G03690X/1),\n",
    "\n",
    "- EPSRC's [Centre for Doctoral Training in Next Generation Computational Modelling](http://ngcm.soton.ac.uk) (#EP/L015382/1),\n",
    "\n",
    "- Horizon 2020 European Research Infrastructure project [OpenDreamKit](http://opendreamkit.org/) (676541),\n",
    "\n",
    "- EPSRC's Programme [grant](https://www.skyrmions.ac.uk/) on Skyrmionics (EP/N032128/1).\n",
    "\n",
    "## See also\n",
    "\n",
    "- [fidimag](https://github.com/computationalmodelling/fidimag): finite-difference micromagnetic simulation tool"
   ]
  }
 ],
 "metadata": {
  "kernelspec": {
   "display_name": "Python 3",
   "language": "python",
   "name": "python3"
  },
  "language_info": {
   "codemirror_mode": {
    "name": "ipython",
    "version": 3
   },
   "file_extension": ".py",
   "mimetype": "text/x-python",
   "name": "python",
   "nbconvert_exporter": "python",
   "pygments_lexer": "ipython3",
   "version": "3.6.4"
  }
 },
 "nbformat": 4,
 "nbformat_minor": 2
}
